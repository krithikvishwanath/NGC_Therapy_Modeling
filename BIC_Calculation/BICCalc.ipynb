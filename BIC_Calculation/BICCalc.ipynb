{
 "cells": [
  {
   "cell_type": "code",
   "execution_count": 3,
   "id": "73877877-c579-4d63-9afb-f34b8d61c072",
   "metadata": {},
   "outputs": [
    {
     "name": "stdout",
     "output_type": "stream",
     "text": [
      "18\n",
      "1904000\n"
     ]
    },
    {
     "name": "stderr",
     "output_type": "stream",
     "text": [
      "100%|██████████| 1904000/1904000 [55:59<00:00, 566.73it/s]  \n"
     ]
    },
    {
     "name": "stdout",
     "output_type": "stream",
     "text": [
      "Minimum Log Likelihood Value for Treatment 1: -216.9606100710318\n",
      "10\n",
      "1088000\n"
     ]
    },
    {
     "name": "stderr",
     "output_type": "stream",
     "text": [
      "100%|██████████| 1088000/1088000 [1:16:42<00:00, 236.37it/s]  \n"
     ]
    },
    {
     "name": "stdout",
     "output_type": "stream",
     "text": [
      "Minimum Log Likelihood Value for Treatment 2: -108.79789275532042\n",
      "9\n",
      "986000\n"
     ]
    },
    {
     "name": "stderr",
     "output_type": "stream",
     "text": [
      "100%|██████████| 986000/986000 [11:25<00:00, 1437.77it/s]\n"
     ]
    },
    {
     "name": "stdout",
     "output_type": "stream",
     "text": [
      "Minimum Log Likelihood Value for Treatment 3: -100.33139853312917\n",
      "4\n",
      "476000\n"
     ]
    },
    {
     "name": "stderr",
     "output_type": "stream",
     "text": [
      "100%|██████████| 476000/476000 [02:08<00:00, 3693.99it/s]\n"
     ]
    },
    {
     "name": "stdout",
     "output_type": "stream",
     "text": [
      "Minimum Log Likelihood Value for Treatment 4: -38.98991240858534\n",
      "8\n",
      "884000\n"
     ]
    },
    {
     "name": "stderr",
     "output_type": "stream",
     "text": [
      "100%|██████████| 884000/884000 [08:38<00:00, 1706.21it/s]"
     ]
    },
    {
     "name": "stdout",
     "output_type": "stream",
     "text": [
      "Minimum Log Likelihood Value for Treatment 5: -99.51753779426353\n"
     ]
    },
    {
     "name": "stderr",
     "output_type": "stream",
     "text": [
      "\n"
     ]
    }
   ],
   "source": [
    "# Import libraries\n",
    "import numpy as np\n",
    "import pandas as pd\n",
    "import matplotlib.pyplot as plt\n",
    "import matplotlib.cm as cm\n",
    "import emcee\n",
    "import corner\n",
    "import glob\n",
    "import math\n",
    "import re\n",
    "import scipy\n",
    "from tqdm import tqdm\n",
    "from scipy import stats\n",
    "from scipy.integrate import odeint\n",
    "from scipy.optimize import minimize\n",
    "from IPython.display import display, Math\n",
    "from scipy.optimize import Bounds\n",
    "import matplotlib.lines as mlines\n",
    "from multiprocessing import Pool;\n",
    "from model_functions import log_likelihood_ic, control_tumor\n",
    "\n",
    "plt.rcParams['font.size'] = '14'\n",
    "\n",
    "def control_tumor(y, t, theta):\n",
    "    rval = theta[0] * y[0]*(1-y[0]/K)\n",
    "    for dtime in ([0,7]):\n",
    "        if(t-dtime<0):\n",
    "            return rval\n",
    "        rval -= y[0]*theta[1]*math.exp(-theta[2]*(t-dtime))\n",
    "    return rval\n",
    "\n",
    "def log_likelihood_ic(para):\n",
    "    theta, times, y, n = para\n",
    "    ll = 0\n",
    "    for r in range(n):\n",
    "        model = odeint(control_tumor, y0=theta[n+r], t=times, args=tuple([[theta[r],theta[r+2*n],theta[3*n]]]))\n",
    "        variance = theta[3*n+1]**2\n",
    "        model.shape = y[r,:].shape\n",
    "        ll += -0.5 * np.sum((y[r,:] - model) ** 2 / variance + np.log(2*np.pi) + np.log(variance))\n",
    "    return ll\n",
    "\n",
    "#From Control:\n",
    "averageIC = 189\n",
    "rPriorMin = 0.02755937481423266\n",
    "K = 1169.755238477951\n",
    "\n",
    "#Load in Theta, times, and y\n",
    "full_data = []\n",
    "file_name = '' #Control data location\n",
    "samples_name = '' #Control flat chain location\n",
    "scn = 'control'\n",
    "data_f = np.genfromtxt(file_name, dtype=float, delimiter=',')\n",
    "data_mice = np.genfromtxt(file_name, dtype=str, delimiter=',')\n",
    "flat_samples = pd.read_csv(samples_name, delimiter=',',header=None, encoding=None).to_numpy()\n",
    "full_data.append([data_f,data_mice,flat_samples,scn])\n",
    "for i in range(1,6):\n",
    "    file_name = '' + str(i) + '.csv'\n",
    "    samples_name = '' + str(i) + '.csv' \n",
    "    scn = 'Treatment ' + str(i)\n",
    "    data_f = np.genfromtxt(file_name, dtype=float, delimiter=',')\n",
    "    data_mice = np.genfromtxt(file_name, dtype=str, delimiter=',')\n",
    "    flat_samples = pd.read_csv(samples_name, delimiter=',',header=None, encoding=None).to_numpy()\n",
    "    full_data.append([data_f,data_mice,flat_samples,scn])\n",
    "\n",
    "\n",
    "\n",
    "if __name__ == \"__main__\":\n",
    "    mxlg = [];\n",
    "    for trtN in range(1,6):\n",
    "        miceN = int((full_data[trtN][2].shape[1]-2)/3)\n",
    "        print(miceN)\n",
    "        flatLen = full_data[trtN][2].shape[0]\n",
    "        flat = full_data[trtN][2]\n",
    "        times = [0,7,14]\n",
    "        yobs = full_data[trtN][0]\n",
    "        print(flatLen)\n",
    "        llvalues = [];\n",
    "        args = [(flat[i], times, yobs[1:,1:-1], miceN) for i in range(flatLen)]\n",
    "        pbar = tqdm(total=flatLen)\n",
    "        '''\n",
    "        for arg in args:\n",
    "            llvalues.append(log_likelihood_ic(arg));\n",
    "            pbar.update()\n",
    "        '''\n",
    "        with Pool() as pool:\n",
    "            for result in pool.imap(log_likelihood_ic, args):\n",
    "                llvalues.append(result)\n",
    "                pbar.update()\n",
    "        pbar.close()\n",
    "        mxlg.append(max(llvalues))\n",
    "        print(\"Minimum Log Likelihood Value for Treatment \" + str(trtN) + \": \" + str(max(llvalues)))"
   ]
  },
  {
   "cell_type": "code",
   "execution_count": 8,
   "id": "f6a91c3c-1f97-4105-98fc-c6318441bf5e",
   "metadata": {},
   "outputs": [
    {
     "name": "stdout",
     "output_type": "stream",
     "text": [
      "[1243.65139982  662.39104012  600.90373444  261.00424868  555.03259647]\n"
     ]
    }
   ],
   "source": [
    "mxlg = np.array([-216.9606100710318,-108.79789275532042, -100.33139853312917, -38.98991240858534, -99.51753779426353])\n",
    "flatLens = np.array([full_data[trtN][2].shape[0] for trtN in range(1,6)])\n",
    "paramCount = np.array([full_data[trtN][2].shape[1] for trtN in range(1,6)])\n",
    "BIC = paramCount*np.log(flatLens) - 2*np.array(mxlg)\n",
    "print(BIC)"
   ]
  }
 ],
 "metadata": {
  "kernelspec": {
   "display_name": "Python 3 (ipykernel)",
   "language": "python",
   "name": "python3"
  },
  "language_info": {
   "codemirror_mode": {
    "name": "ipython",
    "version": 3
   },
   "file_extension": ".py",
   "mimetype": "text/x-python",
   "name": "python",
   "nbconvert_exporter": "python",
   "pygments_lexer": "ipython3",
   "version": "3.9.13"
  }
 },
 "nbformat": 4,
 "nbformat_minor": 5
}
